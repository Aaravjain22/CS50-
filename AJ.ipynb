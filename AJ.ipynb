{
  "nbformat": 4,
  "nbformat_minor": 0,
  "metadata": {
    "colab": {
      "provenance": [],
      "authorship_tag": "ABX9TyOyfbJOY5Rdi0TLpq+E+vuz",
      "include_colab_link": true
    },
    "kernelspec": {
      "name": "python3",
      "display_name": "Python 3"
    },
    "language_info": {
      "name": "python"
    }
  },
  "cells": [
    {
      "cell_type": "markdown",
      "metadata": {
        "id": "view-in-github",
        "colab_type": "text"
      },
      "source": [
        "<a href=\"https://colab.research.google.com/github/Aaravjain22/CS50-/blob/main/AJ.ipynb\" target=\"_parent\"><img src=\"https://colab.research.google.com/assets/colab-badge.svg\" alt=\"Open In Colab\"/></a>"
      ]
    },
    {
      "cell_type": "code",
      "source": [],
      "metadata": {
        "colab": {
          "base_uri": "https://localhost:8080/"
        },
        "id": "zzZHfaanYf-f",
        "outputId": "f6c51769-c45f-4eec-a791-3aa17614d72e"
      },
      "execution_count": null,
      "outputs": [
        {
          "output_type": "stream",
          "name": "stdout",
          "text": [
            "\n",
            "========== OBJECT RECOGNITION ==========\n",
            "1. Collect training images\n",
            "2. Train model\n",
            "3. Run live recognition\n",
            "4. Exit\n",
            "Select option: 1\n",
            "Enter object name (label): human(male)\n",
            "[INFO] Collecting 20 images for 'human(male)'...\n"
          ]
        }
      ]
    },
    {
      "cell_type": "markdown",
      "metadata": {
        "id": "07691a08"
      },
      "source": [
        "# Task\n",
        "Generate Python code to scrape data from a website (e.g., The New York Times), including installing necessary libraries, fetching and parsing HTML content, extracting desired data, and storing it."
      ]
    },
    {
      "cell_type": "markdown",
      "metadata": {
        "id": "de4880d2"
      },
      "source": [
        "## Install necessary libraries\n",
        "\n",
        "### Subtask:\n",
        "Install libraries like `requests` for making HTTP requests and `BeautifulSoup` for parsing HTML.\n"
      ]
    },
    {
      "cell_type": "markdown",
      "metadata": {
        "id": "2fd4d4be"
      },
      "source": [
        "**Reasoning**:\n",
        "Install the necessary libraries for web scraping.\n",
        "\n"
      ]
    },
    {
      "cell_type": "code",
      "metadata": {
        "colab": {
          "base_uri": "https://localhost:8080/"
        },
        "id": "40068a21",
        "outputId": "7f6390ef-a36e-4755-d2e9-0ae21b8293e7"
      },
      "source": [
        "%pip install requests beautifulsoup4"
      ],
      "execution_count": null,
      "outputs": [
        {
          "output_type": "stream",
          "name": "stdout",
          "text": [
            "Requirement already satisfied: requests in /usr/local/lib/python3.11/dist-packages (2.32.3)\n",
            "Requirement already satisfied: beautifulsoup4 in /usr/local/lib/python3.11/dist-packages (4.13.4)\n",
            "Requirement already satisfied: charset-normalizer<4,>=2 in /usr/local/lib/python3.11/dist-packages (from requests) (3.4.2)\n",
            "Requirement already satisfied: idna<4,>=2.5 in /usr/local/lib/python3.11/dist-packages (from requests) (3.10)\n",
            "Requirement already satisfied: urllib3<3,>=1.21.1 in /usr/local/lib/python3.11/dist-packages (from requests) (2.4.0)\n",
            "Requirement already satisfied: certifi>=2017.4.17 in /usr/local/lib/python3.11/dist-packages (from requests) (2025.4.26)\n",
            "Requirement already satisfied: soupsieve>1.2 in /usr/local/lib/python3.11/dist-packages (from beautifulsoup4) (2.7)\n",
            "Requirement already satisfied: typing-extensions>=4.0.0 in /usr/local/lib/python3.11/dist-packages (from beautifulsoup4) (4.14.0)\n"
          ]
        }
      ]
    },
    {
      "cell_type": "markdown",
      "metadata": {
        "id": "ffb858bd"
      },
      "source": [
        "## Fetch and parse HTML content\n",
        "\n",
        "### Subtask:\n",
        "Use `requests` to fetch the HTML content of a webpage and `BeautifulSoup` to parse it."
      ]
    },
    {
      "cell_type": "code",
      "metadata": {
        "id": "d6607d8e"
      },
      "source": [
        "import requests\n",
        "from bs4 import BeautifulSoup\n",
        "\n",
        "url = 'https://www.nytimes.com/' # Example URL, replace with the actual URL if needed\n",
        "try:\n",
        "    response = requests.get(url)\n",
        "    response.raise_for_status()  # Raise an exception for bad status codes (4xx or 5xx)\n",
        "    soup = BeautifulSoup(response.content, 'html.parser')\n",
        "    print(\"Successfully fetched and parsed the HTML content.\")\n",
        "except requests.exceptions.RequestException as e:\n",
        "    print(f\"Error fetching the URL: {e}\")\n",
        "    soup = None # Set soup to None in case of an error"
      ],
      "execution_count": null,
      "outputs": []
    }
  ]
}